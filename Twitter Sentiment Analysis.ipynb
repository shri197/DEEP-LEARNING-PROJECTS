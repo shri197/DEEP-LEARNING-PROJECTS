{
 "cells": [
  {
   "cell_type": "code",
   "execution_count": 1,
   "metadata": {
    "executionInfo": {
     "elapsed": 3285,
     "status": "ok",
     "timestamp": 1621220263708,
     "user": {
      "displayName": "Shriya Mutyal",
      "photoUrl": "https://lh3.googleusercontent.com/a-/AOh14GguzasuoJAo8k6uLhI1NxV7McBXzwShxOYHUE9UkA=s64",
      "userId": "07685097968043616234"
     },
     "user_tz": -330
    },
    "id": "T87E-_wYPbwy"
   },
   "outputs": [],
   "source": [
    "import pandas as pd\n",
    "import numpy as np\n",
    "import matplotlib.pyplot as plt\n",
    "import tensorflow as tf\n",
    "from tensorflow.keras.preprocessing.text import Tokenizer\n",
    "from tensorflow.keras.models import Sequential\n",
    "from tensorflow.keras.layers import Dense, LSTM , Embedding\n",
    "from sklearn.model_selection import train_test_split\n",
    "from tensorflow.keras.preprocessing.sequence import pad_sequences\n",
    "import re"
   ]
  },
  {
   "cell_type": "code",
   "execution_count": 2,
   "metadata": {
    "executionInfo": {
     "elapsed": 1900,
     "status": "ok",
     "timestamp": 1621220302825,
     "user": {
      "displayName": "Shriya Mutyal",
      "photoUrl": "https://lh3.googleusercontent.com/a-/AOh14GguzasuoJAo8k6uLhI1NxV7McBXzwShxOYHUE9UkA=s64",
      "userId": "07685097968043616234"
     },
     "user_tz": -330
    },
    "id": "0gGRfcKkQfnu"
   },
   "outputs": [],
   "source": [
    "#loading the dataset\n",
    "dataset = pd.read_csv(\"/content/drive/MyDrive/Tweets.csv\")"
   ]
  },
  {
   "cell_type": "code",
   "execution_count": 3,
   "metadata": {
    "colab": {
     "base_uri": "https://localhost:8080/",
     "height": 445
    },
    "executionInfo": {
     "elapsed": 1266,
     "status": "ok",
     "timestamp": 1621220320608,
     "user": {
      "displayName": "Shriya Mutyal",
      "photoUrl": "https://lh3.googleusercontent.com/a-/AOh14GguzasuoJAo8k6uLhI1NxV7McBXzwShxOYHUE9UkA=s64",
      "userId": "07685097968043616234"
     },
     "user_tz": -330
    },
    "id": "KhfXV1esQpgZ",
    "outputId": "cad4afe4-6e0d-424c-9d52-646c78ebff8b"
   },
   "outputs": [
    {
     "data": {
      "text/html": [
       "<div>\n",
       "<style scoped>\n",
       "    .dataframe tbody tr th:only-of-type {\n",
       "        vertical-align: middle;\n",
       "    }\n",
       "\n",
       "    .dataframe tbody tr th {\n",
       "        vertical-align: top;\n",
       "    }\n",
       "\n",
       "    .dataframe thead th {\n",
       "        text-align: right;\n",
       "    }\n",
       "</style>\n",
       "<table border=\"1\" class=\"dataframe\">\n",
       "  <thead>\n",
       "    <tr style=\"text-align: right;\">\n",
       "      <th></th>\n",
       "      <th>tweet_id</th>\n",
       "      <th>airline_sentiment</th>\n",
       "      <th>airline_sentiment_confidence</th>\n",
       "      <th>negativereason</th>\n",
       "      <th>negativereason_confidence</th>\n",
       "      <th>airline</th>\n",
       "      <th>name</th>\n",
       "      <th>retweet_count</th>\n",
       "      <th>text</th>\n",
       "      <th>tweet_created</th>\n",
       "      <th>latitude</th>\n",
       "      <th>longitude</th>\n",
       "    </tr>\n",
       "  </thead>\n",
       "  <tbody>\n",
       "    <tr>\n",
       "      <th>0</th>\n",
       "      <td>5.700000e+17</td>\n",
       "      <td>neutral</td>\n",
       "      <td>1.0000</td>\n",
       "      <td>NaN</td>\n",
       "      <td>NaN</td>\n",
       "      <td>Virgin America</td>\n",
       "      <td>cairdin</td>\n",
       "      <td>0</td>\n",
       "      <td>@VirginAmerica What @dhepburn said.</td>\n",
       "      <td>24-02-2015 11:35</td>\n",
       "      <td>35.888455</td>\n",
       "      <td>-119.273781</td>\n",
       "    </tr>\n",
       "    <tr>\n",
       "      <th>1</th>\n",
       "      <td>5.700000e+17</td>\n",
       "      <td>positive</td>\n",
       "      <td>0.3486</td>\n",
       "      <td>NaN</td>\n",
       "      <td>0.0000</td>\n",
       "      <td>Virgin America</td>\n",
       "      <td>jnardino</td>\n",
       "      <td>0</td>\n",
       "      <td>@VirginAmerica plus you've added commercials t...</td>\n",
       "      <td>24-02-2015 11:15</td>\n",
       "      <td>37.770971</td>\n",
       "      <td>-119.941025</td>\n",
       "    </tr>\n",
       "    <tr>\n",
       "      <th>2</th>\n",
       "      <td>5.700000e+17</td>\n",
       "      <td>neutral</td>\n",
       "      <td>0.6837</td>\n",
       "      <td>NaN</td>\n",
       "      <td>NaN</td>\n",
       "      <td>Virgin America</td>\n",
       "      <td>yvonnalynn</td>\n",
       "      <td>0</td>\n",
       "      <td>@VirginAmerica I didn't today... Must mean I n...</td>\n",
       "      <td>24-02-2015 11:15</td>\n",
       "      <td>35.684863</td>\n",
       "      <td>-119.709299</td>\n",
       "    </tr>\n",
       "    <tr>\n",
       "      <th>3</th>\n",
       "      <td>5.700000e+17</td>\n",
       "      <td>negative</td>\n",
       "      <td>1.0000</td>\n",
       "      <td>Bad Flight</td>\n",
       "      <td>0.7033</td>\n",
       "      <td>Virgin America</td>\n",
       "      <td>jnardino</td>\n",
       "      <td>0</td>\n",
       "      <td>@VirginAmerica it's really aggressive to blast...</td>\n",
       "      <td>24-02-2015 11:15</td>\n",
       "      <td>37.061159</td>\n",
       "      <td>-119.279135</td>\n",
       "    </tr>\n",
       "    <tr>\n",
       "      <th>4</th>\n",
       "      <td>5.700000e+17</td>\n",
       "      <td>negative</td>\n",
       "      <td>1.0000</td>\n",
       "      <td>Can't Tell</td>\n",
       "      <td>1.0000</td>\n",
       "      <td>Virgin America</td>\n",
       "      <td>jnardino</td>\n",
       "      <td>0</td>\n",
       "      <td>@VirginAmerica and it's a really big bad thing...</td>\n",
       "      <td>24-02-2015 11:14</td>\n",
       "      <td>36.790587</td>\n",
       "      <td>-120.867752</td>\n",
       "    </tr>\n",
       "  </tbody>\n",
       "</table>\n",
       "</div>"
      ],
      "text/plain": [
       "       tweet_id airline_sentiment  ...   latitude   longitude\n",
       "0  5.700000e+17           neutral  ...  35.888455 -119.273781\n",
       "1  5.700000e+17          positive  ...  37.770971 -119.941025\n",
       "2  5.700000e+17           neutral  ...  35.684863 -119.709299\n",
       "3  5.700000e+17          negative  ...  37.061159 -119.279135\n",
       "4  5.700000e+17          negative  ...  36.790587 -120.867752\n",
       "\n",
       "[5 rows x 12 columns]"
      ]
     },
     "execution_count": 3,
     "metadata": {
      "tags": []
     },
     "output_type": "execute_result"
    }
   ],
   "source": [
    "dataset.head()"
   ]
  },
  {
   "cell_type": "code",
   "execution_count": 4,
   "metadata": {
    "colab": {
     "base_uri": "https://localhost:8080/"
    },
    "executionInfo": {
     "elapsed": 1198,
     "status": "ok",
     "timestamp": 1621220341076,
     "user": {
      "displayName": "Shriya Mutyal",
      "photoUrl": "https://lh3.googleusercontent.com/a-/AOh14GguzasuoJAo8k6uLhI1NxV7McBXzwShxOYHUE9UkA=s64",
      "userId": "07685097968043616234"
     },
     "user_tz": -330
    },
    "id": "f_aXlFbDQuAv",
    "outputId": "b69ae59c-59b7-4b17-9bdc-194b694813b7"
   },
   "outputs": [
    {
     "data": {
      "text/plain": [
       "array(['Virgin America', 'United', 'Southwest', 'Delta', 'US Airways',\n",
       "       'American'], dtype=object)"
      ]
     },
     "execution_count": 4,
     "metadata": {
      "tags": []
     },
     "output_type": "execute_result"
    }
   ],
   "source": [
    "#to check which airlines reviews we have recived\n",
    "dataset['airline'].unique()"
   ]
  },
  {
   "cell_type": "code",
   "execution_count": 5,
   "metadata": {
    "colab": {
     "base_uri": "https://localhost:8080/"
    },
    "executionInfo": {
     "elapsed": 1202,
     "status": "ok",
     "timestamp": 1621220371772,
     "user": {
      "displayName": "Shriya Mutyal",
      "photoUrl": "https://lh3.googleusercontent.com/a-/AOh14GguzasuoJAo8k6uLhI1NxV7McBXzwShxOYHUE9UkA=s64",
      "userId": "07685097968043616234"
     },
     "user_tz": -330
    },
    "id": "eOlcQuqYQzBV",
    "outputId": "1f3fddc6-a26e-40e8-c5e1-5b3cc5be2e4e"
   },
   "outputs": [
    {
     "data": {
      "text/plain": [
       "array(['neutral', 'positive', 'negative'], dtype=object)"
      ]
     },
     "execution_count": 5,
     "metadata": {
      "tags": []
     },
     "output_type": "execute_result"
    }
   ],
   "source": [
    "#what are the sentiment or labels to predict\n",
    "dataset['airline_sentiment'].unique()"
   ]
  },
  {
   "cell_type": "code",
   "execution_count": 6,
   "metadata": {
    "colab": {
     "base_uri": "https://localhost:8080/"
    },
    "executionInfo": {
     "elapsed": 1239,
     "status": "ok",
     "timestamp": 1621220386814,
     "user": {
      "displayName": "Shriya Mutyal",
      "photoUrl": "https://lh3.googleusercontent.com/a-/AOh14GguzasuoJAo8k6uLhI1NxV7McBXzwShxOYHUE9UkA=s64",
      "userId": "07685097968043616234"
     },
     "user_tz": -330
    },
    "id": "J6ksLmNBQ6hF",
    "outputId": "eadaa96c-ab20-4eab-98ab-7fb7e163927c"
   },
   "outputs": [
    {
     "data": {
      "text/plain": [
       "tweet_id                           0\n",
       "airline_sentiment                  0\n",
       "airline_sentiment_confidence       0\n",
       "negativereason                  5462\n",
       "negativereason_confidence       4118\n",
       "airline                            0\n",
       "name                               0\n",
       "retweet_count                      0\n",
       "text                               0\n",
       "tweet_created                      0\n",
       "latitude                           0\n",
       "longitude                          0\n",
       "dtype: int64"
      ]
     },
     "execution_count": 6,
     "metadata": {
      "tags": []
     },
     "output_type": "execute_result"
    }
   ],
   "source": [
    "#checking for the null values\n",
    "dataset.isnull().sum()"
   ]
  },
  {
   "cell_type": "code",
   "execution_count": 7,
   "metadata": {
    "executionInfo": {
     "elapsed": 1193,
     "status": "ok",
     "timestamp": 1621220421350,
     "user": {
      "displayName": "Shriya Mutyal",
      "photoUrl": "https://lh3.googleusercontent.com/a-/AOh14GguzasuoJAo8k6uLhI1NxV7McBXzwShxOYHUE9UkA=s64",
      "userId": "07685097968043616234"
     },
     "user_tz": -330
    },
    "id": "MUy5rM7ZQ-Lu"
   },
   "outputs": [],
   "source": [
    "#creating a new dataframe with only 2 columns the review and the respected sentiment  \n",
    "data = dataset[[\"text\",\"airline_sentiment\"]]"
   ]
  },
  {
   "cell_type": "code",
   "execution_count": 8,
   "metadata": {
    "colab": {
     "base_uri": "https://localhost:8080/",
     "height": 204
    },
    "executionInfo": {
     "elapsed": 1587,
     "status": "ok",
     "timestamp": 1621220442695,
     "user": {
      "displayName": "Shriya Mutyal",
      "photoUrl": "https://lh3.googleusercontent.com/a-/AOh14GguzasuoJAo8k6uLhI1NxV7McBXzwShxOYHUE9UkA=s64",
      "userId": "07685097968043616234"
     },
     "user_tz": -330
    },
    "id": "iyLTHfNpRGnv",
    "outputId": "90075d57-b42e-457d-8865-2f5917e9cf92"
   },
   "outputs": [
    {
     "data": {
      "text/html": [
       "<div>\n",
       "<style scoped>\n",
       "    .dataframe tbody tr th:only-of-type {\n",
       "        vertical-align: middle;\n",
       "    }\n",
       "\n",
       "    .dataframe tbody tr th {\n",
       "        vertical-align: top;\n",
       "    }\n",
       "\n",
       "    .dataframe thead th {\n",
       "        text-align: right;\n",
       "    }\n",
       "</style>\n",
       "<table border=\"1\" class=\"dataframe\">\n",
       "  <thead>\n",
       "    <tr style=\"text-align: right;\">\n",
       "      <th></th>\n",
       "      <th>text</th>\n",
       "      <th>airline_sentiment</th>\n",
       "    </tr>\n",
       "  </thead>\n",
       "  <tbody>\n",
       "    <tr>\n",
       "      <th>0</th>\n",
       "      <td>@VirginAmerica What @dhepburn said.</td>\n",
       "      <td>neutral</td>\n",
       "    </tr>\n",
       "    <tr>\n",
       "      <th>1</th>\n",
       "      <td>@VirginAmerica plus you've added commercials t...</td>\n",
       "      <td>positive</td>\n",
       "    </tr>\n",
       "    <tr>\n",
       "      <th>2</th>\n",
       "      <td>@VirginAmerica I didn't today... Must mean I n...</td>\n",
       "      <td>neutral</td>\n",
       "    </tr>\n",
       "    <tr>\n",
       "      <th>3</th>\n",
       "      <td>@VirginAmerica it's really aggressive to blast...</td>\n",
       "      <td>negative</td>\n",
       "    </tr>\n",
       "    <tr>\n",
       "      <th>4</th>\n",
       "      <td>@VirginAmerica and it's a really big bad thing...</td>\n",
       "      <td>negative</td>\n",
       "    </tr>\n",
       "  </tbody>\n",
       "</table>\n",
       "</div>"
      ],
      "text/plain": [
       "                                                text airline_sentiment\n",
       "0                @VirginAmerica What @dhepburn said.           neutral\n",
       "1  @VirginAmerica plus you've added commercials t...          positive\n",
       "2  @VirginAmerica I didn't today... Must mean I n...           neutral\n",
       "3  @VirginAmerica it's really aggressive to blast...          negative\n",
       "4  @VirginAmerica and it's a really big bad thing...          negative"
      ]
     },
     "execution_count": 8,
     "metadata": {
      "tags": []
     },
     "output_type": "execute_result"
    }
   ],
   "source": [
    "#new dataframe\n",
    "data.head()"
   ]
  },
  {
   "cell_type": "code",
   "execution_count": 9,
   "metadata": {
    "executionInfo": {
     "elapsed": 1211,
     "status": "ok",
     "timestamp": 1621220460103,
     "user": {
      "displayName": "Shriya Mutyal",
      "photoUrl": "https://lh3.googleusercontent.com/a-/AOh14GguzasuoJAo8k6uLhI1NxV7McBXzwShxOYHUE9UkA=s64",
      "userId": "07685097968043616234"
     },
     "user_tz": -330
    },
    "id": "QfJdZQwZRLvW"
   },
   "outputs": [],
   "source": [
    "#removing all the rows where ever the sentiment is neutral we want to work with positive and negative reviews\n",
    "dataset = data[data.airline_sentiment != 'neutral']"
   ]
  },
  {
   "cell_type": "code",
   "execution_count": 10,
   "metadata": {
    "colab": {
     "base_uri": "https://localhost:8080/",
     "height": 204
    },
    "executionInfo": {
     "elapsed": 1308,
     "status": "ok",
     "timestamp": 1621220479881,
     "user": {
      "displayName": "Shriya Mutyal",
      "photoUrl": "https://lh3.googleusercontent.com/a-/AOh14GguzasuoJAo8k6uLhI1NxV7McBXzwShxOYHUE9UkA=s64",
      "userId": "07685097968043616234"
     },
     "user_tz": -330
    },
    "id": "jz3vhWb1RQFS",
    "outputId": "89eb6802-f04d-4d96-c848-b0f36750f4de"
   },
   "outputs": [
    {
     "data": {
      "text/html": [
       "<div>\n",
       "<style scoped>\n",
       "    .dataframe tbody tr th:only-of-type {\n",
       "        vertical-align: middle;\n",
       "    }\n",
       "\n",
       "    .dataframe tbody tr th {\n",
       "        vertical-align: top;\n",
       "    }\n",
       "\n",
       "    .dataframe thead th {\n",
       "        text-align: right;\n",
       "    }\n",
       "</style>\n",
       "<table border=\"1\" class=\"dataframe\">\n",
       "  <thead>\n",
       "    <tr style=\"text-align: right;\">\n",
       "      <th></th>\n",
       "      <th>text</th>\n",
       "      <th>airline_sentiment</th>\n",
       "    </tr>\n",
       "  </thead>\n",
       "  <tbody>\n",
       "    <tr>\n",
       "      <th>1</th>\n",
       "      <td>@VirginAmerica plus you've added commercials t...</td>\n",
       "      <td>positive</td>\n",
       "    </tr>\n",
       "    <tr>\n",
       "      <th>3</th>\n",
       "      <td>@VirginAmerica it's really aggressive to blast...</td>\n",
       "      <td>negative</td>\n",
       "    </tr>\n",
       "    <tr>\n",
       "      <th>4</th>\n",
       "      <td>@VirginAmerica and it's a really big bad thing...</td>\n",
       "      <td>negative</td>\n",
       "    </tr>\n",
       "    <tr>\n",
       "      <th>5</th>\n",
       "      <td>@VirginAmerica seriously would pay $30 a fligh...</td>\n",
       "      <td>negative</td>\n",
       "    </tr>\n",
       "    <tr>\n",
       "      <th>6</th>\n",
       "      <td>@VirginAmerica yes, nearly every time I fly VX...</td>\n",
       "      <td>positive</td>\n",
       "    </tr>\n",
       "  </tbody>\n",
       "</table>\n",
       "</div>"
      ],
      "text/plain": [
       "                                                text airline_sentiment\n",
       "1  @VirginAmerica plus you've added commercials t...          positive\n",
       "3  @VirginAmerica it's really aggressive to blast...          negative\n",
       "4  @VirginAmerica and it's a really big bad thing...          negative\n",
       "5  @VirginAmerica seriously would pay $30 a fligh...          negative\n",
       "6  @VirginAmerica yes, nearly every time I fly VX...          positive"
      ]
     },
     "execution_count": 10,
     "metadata": {
      "tags": []
     },
     "output_type": "execute_result"
    }
   ],
   "source": [
    "dataset.head()"
   ]
  },
  {
   "cell_type": "code",
   "execution_count": 11,
   "metadata": {
    "colab": {
     "base_uri": "https://localhost:8080/"
    },
    "executionInfo": {
     "elapsed": 1240,
     "status": "ok",
     "timestamp": 1621220499487,
     "user": {
      "displayName": "Shriya Mutyal",
      "photoUrl": "https://lh3.googleusercontent.com/a-/AOh14GguzasuoJAo8k6uLhI1NxV7McBXzwShxOYHUE9UkA=s64",
      "userId": "07685097968043616234"
     },
     "user_tz": -330
    },
    "id": "uSulJAl4RU4p",
    "outputId": "b96b17b9-d7a3-410c-d5dd-d595f5ecfeae"
   },
   "outputs": [
    {
     "data": {
      "text/plain": [
       "array(['positive', 'negative'], dtype=object)"
      ]
     },
     "execution_count": 11,
     "metadata": {
      "tags": []
     },
     "output_type": "execute_result"
    }
   ],
   "source": [
    "dataset.airline_sentiment.unique()"
   ]
  },
  {
   "cell_type": "code",
   "execution_count": 12,
   "metadata": {
    "colab": {
     "base_uri": "https://localhost:8080/",
     "height": 52
    },
    "executionInfo": {
     "elapsed": 1554,
     "status": "ok",
     "timestamp": 1621220512565,
     "user": {
      "displayName": "Shriya Mutyal",
      "photoUrl": "https://lh3.googleusercontent.com/a-/AOh14GguzasuoJAo8k6uLhI1NxV7McBXzwShxOYHUE9UkA=s64",
      "userId": "07685097968043616234"
     },
     "user_tz": -330
    },
    "id": "C9kaqm7LRZsL",
    "outputId": "6c7e075c-eeb1-4153-bdda-8b898f11e247"
   },
   "outputs": [
    {
     "data": {
      "application/vnd.google.colaboratory.intrinsic+json": {
       "type": "string"
      },
      "text/plain": [
       "'@VirginAmerica it\\'s really aggressive to blast obnoxious \"entertainment\" in your guests\\' faces &amp; they have little recourse'"
      ]
     },
     "execution_count": 12,
     "metadata": {
      "tags": []
     },
     "output_type": "execute_result"
    }
   ],
   "source": [
    "dataset['text'][3]"
   ]
  },
  {
   "cell_type": "code",
   "execution_count": 13,
   "metadata": {
    "executionInfo": {
     "elapsed": 1951,
     "status": "ok",
     "timestamp": 1621220537394,
     "user": {
      "displayName": "Shriya Mutyal",
      "photoUrl": "https://lh3.googleusercontent.com/a-/AOh14GguzasuoJAo8k6uLhI1NxV7McBXzwShxOYHUE9UkA=s64",
      "userId": "07685097968043616234"
     },
     "user_tz": -330
    },
    "id": "TkHbkXZQRczi"
   },
   "outputs": [],
   "source": [
    "import nltk\n",
    "from nltk.corpus import stopwords"
   ]
  },
  {
   "cell_type": "code",
   "execution_count": 14,
   "metadata": {
    "colab": {
     "base_uri": "https://localhost:8080/"
    },
    "executionInfo": {
     "elapsed": 1200,
     "status": "ok",
     "timestamp": 1621220549729,
     "user": {
      "displayName": "Shriya Mutyal",
      "photoUrl": "https://lh3.googleusercontent.com/a-/AOh14GguzasuoJAo8k6uLhI1NxV7McBXzwShxOYHUE9UkA=s64",
      "userId": "07685097968043616234"
     },
     "user_tz": -330
    },
    "id": "ZI-8F0V2RixW",
    "outputId": "5f3b90d4-f078-44b9-9998-7b7c05672f5c"
   },
   "outputs": [
    {
     "name": "stdout",
     "output_type": "stream",
     "text": [
      "[nltk_data] Downloading package stopwords to /root/nltk_data...\n",
      "[nltk_data]   Unzipping corpora/stopwords.zip.\n"
     ]
    },
    {
     "data": {
      "text/plain": [
       "True"
      ]
     },
     "execution_count": 14,
     "metadata": {
      "tags": []
     },
     "output_type": "execute_result"
    }
   ],
   "source": [
    "nltk.download('stopwords')"
   ]
  },
  {
   "cell_type": "code",
   "execution_count": 15,
   "metadata": {
    "colab": {
     "base_uri": "https://localhost:8080/"
    },
    "executionInfo": {
     "elapsed": 1205,
     "status": "ok",
     "timestamp": 1621220575360,
     "user": {
      "displayName": "Shriya Mutyal",
      "photoUrl": "https://lh3.googleusercontent.com/a-/AOh14GguzasuoJAo8k6uLhI1NxV7McBXzwShxOYHUE9UkA=s64",
      "userId": "07685097968043616234"
     },
     "user_tz": -330
    },
    "id": "86y7t1gcRl9y",
    "outputId": "75ab178e-38dd-412a-875b-18f4700474fb"
   },
   "outputs": [
    {
     "name": "stdout",
     "output_type": "stream",
     "text": [
      "['i', 'me', 'my', 'myself', 'we', 'our', 'ours', 'ourselves', 'you', \"you're\", \"you've\", \"you'll\", \"you'd\", 'your', 'yours', 'yourself', 'yourselves', 'he', 'him', 'his', 'himself', 'she', \"she's\", 'her', 'hers', 'herself', 'it', \"it's\", 'its', 'itself', 'they', 'them', 'their', 'theirs', 'themselves', 'what', 'which', 'who', 'whom', 'this', 'that', \"that'll\", 'these', 'those', 'am', 'is', 'are', 'was', 'were', 'be', 'been', 'being', 'have', 'has', 'had', 'having', 'do', 'does', 'did', 'doing', 'a', 'an', 'the', 'and', 'but', 'if', 'or', 'because', 'as', 'until', 'while', 'of', 'at', 'by', 'for', 'with', 'about', 'against', 'between', 'into', 'through', 'during', 'before', 'after', 'above', 'below', 'to', 'from', 'up', 'down', 'in', 'out', 'on', 'off', 'over', 'under', 'again', 'further', 'then', 'once', 'here', 'there', 'when', 'where', 'why', 'how', 'all', 'any', 'both', 'each', 'few', 'more', 'most', 'other', 'some', 'such', 'no', 'nor', 'not', 'only', 'own', 'same', 'so', 'than', 'too', 'very', 's', 't', 'can', 'will', 'just', 'don', \"don't\", 'should', \"should've\", 'now', 'd', 'll', 'm', 'o', 're', 've', 'y', 'ain', 'aren', \"aren't\", 'couldn', \"couldn't\", 'didn', \"didn't\", 'doesn', \"doesn't\", 'hadn', \"hadn't\", 'hasn', \"hasn't\", 'haven', \"haven't\", 'isn', \"isn't\", 'ma', 'mightn', \"mightn't\", 'mustn', \"mustn't\", 'needn', \"needn't\", 'shan', \"shan't\", 'shouldn', \"shouldn't\", 'wasn', \"wasn't\", 'weren', \"weren't\", 'won', \"won't\", 'wouldn', \"wouldn't\"]\n"
     ]
    }
   ],
   "source": [
    "#checking what all words are considered as stopwords\n",
    "print(stopwords.words(\"english\"))"
   ]
  },
  {
   "cell_type": "code",
   "execution_count": 16,
   "metadata": {
    "colab": {
     "base_uri": "https://localhost:8080/"
    },
    "executionInfo": {
     "elapsed": 1215,
     "status": "ok",
     "timestamp": 1621220592102,
     "user": {
      "displayName": "Shriya Mutyal",
      "photoUrl": "https://lh3.googleusercontent.com/a-/AOh14GguzasuoJAo8k6uLhI1NxV7McBXzwShxOYHUE9UkA=s64",
      "userId": "07685097968043616234"
     },
     "user_tz": -330
    },
    "id": "7RuKR6DpRsOQ",
    "outputId": "d0a1aa55-6f0c-4fbd-fc99-0ee17a7cfedb"
   },
   "outputs": [
    {
     "data": {
      "text/plain": [
       "<bound method DataFrame.info of                                                     text airline_sentiment\n",
       "1      @VirginAmerica plus you've added commercials t...          positive\n",
       "3      @VirginAmerica it's really aggressive to blast...          negative\n",
       "4      @VirginAmerica and it's a really big bad thing...          negative\n",
       "5      @VirginAmerica seriously would pay $30 a fligh...          negative\n",
       "6      @VirginAmerica yes, nearly every time I fly VX...          positive\n",
       "...                                                  ...               ...\n",
       "14633  @AmericanAir my flight was Cancelled Flightled...          negative\n",
       "14634         @AmericanAir right on cue with the delays👌          negative\n",
       "14635  @AmericanAir thank you we got on a different f...          positive\n",
       "14636  @AmericanAir leaving over 20 minutes Late Flig...          negative\n",
       "14638  @AmericanAir you have my money, you change my ...          negative\n",
       "\n",
       "[11541 rows x 2 columns]>"
      ]
     },
     "execution_count": 16,
     "metadata": {
      "tags": []
     },
     "output_type": "execute_result"
    }
   ],
   "source": [
    "dataset.info"
   ]
  },
  {
   "cell_type": "code",
   "execution_count": 17,
   "metadata": {
    "colab": {
     "base_uri": "https://localhost:8080/"
    },
    "executionInfo": {
     "elapsed": 1350,
     "status": "ok",
     "timestamp": 1621220617133,
     "user": {
      "displayName": "Shriya Mutyal",
      "photoUrl": "https://lh3.googleusercontent.com/a-/AOh14GguzasuoJAo8k6uLhI1NxV7McBXzwShxOYHUE9UkA=s64",
      "userId": "07685097968043616234"
     },
     "user_tz": -330
    },
    "id": "NdANyj7CRwTm",
    "outputId": "6d05f00f-7eb1-46bb-8e83-d0ca57ba4a5f"
   },
   "outputs": [
    {
     "name": "stderr",
     "output_type": "stream",
     "text": [
      "/usr/local/lib/python3.7/dist-packages/ipykernel_launcher.py:2: SettingWithCopyWarning: \n",
      "A value is trying to be set on a copy of a slice from a DataFrame.\n",
      "Try using .loc[row_indexer,col_indexer] = value instead\n",
      "\n",
      "See the caveats in the documentation: https://pandas.pydata.org/pandas-docs/stable/user_guide/indexing.html#returning-a-view-versus-a-copy\n",
      "  \n"
     ]
    }
   ],
   "source": [
    "#converting all the text to lower case\n",
    "dataset['text'] = dataset['text'].apply(lambda x:x.lower())"
   ]
  },
  {
   "cell_type": "code",
   "execution_count": 18,
   "metadata": {
    "colab": {
     "base_uri": "https://localhost:8080/"
    },
    "executionInfo": {
     "elapsed": 783,
     "status": "ok",
     "timestamp": 1621220634332,
     "user": {
      "displayName": "Shriya Mutyal",
      "photoUrl": "https://lh3.googleusercontent.com/a-/AOh14GguzasuoJAo8k6uLhI1NxV7McBXzwShxOYHUE9UkA=s64",
      "userId": "07685097968043616234"
     },
     "user_tz": -330
    },
    "id": "FLPrgxi9R2Yp",
    "outputId": "dfe3225f-9930-4409-ca99-2d76308e03ae"
   },
   "outputs": [
    {
     "name": "stdout",
     "output_type": "stream",
     "text": [
      "@virginamerica seriously would pay $30 a flight for seats that didn't have this playing.\n",
      "it's really the only bad thing about flying va\n"
     ]
    }
   ],
   "source": [
    "print(dataset['text'].iloc[3])"
   ]
  },
  {
   "cell_type": "code",
   "execution_count": 20,
   "metadata": {
    "colab": {
     "base_uri": "https://localhost:8080/"
    },
    "executionInfo": {
     "elapsed": 1211,
     "status": "ok",
     "timestamp": 1621220668951,
     "user": {
      "displayName": "Shriya Mutyal",
      "photoUrl": "https://lh3.googleusercontent.com/a-/AOh14GguzasuoJAo8k6uLhI1NxV7McBXzwShxOYHUE9UkA=s64",
      "userId": "07685097968043616234"
     },
     "user_tz": -330
    },
    "id": "xduu4ALKR6uP",
    "outputId": "e7f01844-dc00-4424-aa3b-c2afbf991cc8"
   },
   "outputs": [
    {
     "name": "stderr",
     "output_type": "stream",
     "text": [
      "/usr/local/lib/python3.7/dist-packages/ipykernel_launcher.py:2: SettingWithCopyWarning: \n",
      "A value is trying to be set on a copy of a slice from a DataFrame.\n",
      "Try using .loc[row_indexer,col_indexer] = value instead\n",
      "\n",
      "See the caveats in the documentation: https://pandas.pydata.org/pandas-docs/stable/user_guide/indexing.html#returning-a-view-versus-a-copy\n",
      "  \n"
     ]
    }
   ],
   "source": [
    "#removing all the punctuations and symbols\n",
    "dataset['text'] = dataset['text'].apply(lambda x: re.sub('[^a-zA-Z0-9\\s]','',x))"
   ]
  },
  {
   "cell_type": "code",
   "execution_count": 21,
   "metadata": {
    "colab": {
     "base_uri": "https://localhost:8080/"
    },
    "executionInfo": {
     "elapsed": 1201,
     "status": "ok",
     "timestamp": 1621220683693,
     "user": {
      "displayName": "Shriya Mutyal",
      "photoUrl": "https://lh3.googleusercontent.com/a-/AOh14GguzasuoJAo8k6uLhI1NxV7McBXzwShxOYHUE9UkA=s64",
      "userId": "07685097968043616234"
     },
     "user_tz": -330
    },
    "id": "uD4YnbN8R_tZ",
    "outputId": "9775fee6-0831-4337-ec9c-6392c270ef1f"
   },
   "outputs": [
    {
     "name": "stdout",
     "output_type": "stream",
     "text": [
      "virginamerica seriously would pay 30 a flight for seats that didnt have this playing\n",
      "its really the only bad thing about flying va\n"
     ]
    }
   ],
   "source": [
    "print(dataset['text'].iloc[3])"
   ]
  },
  {
   "cell_type": "code",
   "execution_count": 22,
   "metadata": {
    "colab": {
     "base_uri": "https://localhost:8080/"
    },
    "executionInfo": {
     "elapsed": 1187,
     "status": "ok",
     "timestamp": 1621220705855,
     "user": {
      "displayName": "Shriya Mutyal",
      "photoUrl": "https://lh3.googleusercontent.com/a-/AOh14GguzasuoJAo8k6uLhI1NxV7McBXzwShxOYHUE9UkA=s64",
      "userId": "07685097968043616234"
     },
     "user_tz": -330
    },
    "id": "DOYQA5v3SGq6",
    "outputId": "d2679202-6897-4aae-e7ef-7cdb8c93229c"
   },
   "outputs": [
    {
     "data": {
      "text/plain": [
       "(11541, 2)"
      ]
     },
     "execution_count": 22,
     "metadata": {
      "tags": []
     },
     "output_type": "execute_result"
    }
   ],
   "source": [
    "dataset.shape"
   ]
  },
  {
   "cell_type": "code",
   "execution_count": 23,
   "metadata": {
    "executionInfo": {
     "elapsed": 1372,
     "status": "ok",
     "timestamp": 1621220730928,
     "user": {
      "displayName": "Shriya Mutyal",
      "photoUrl": "https://lh3.googleusercontent.com/a-/AOh14GguzasuoJAo8k6uLhI1NxV7McBXzwShxOYHUE9UkA=s64",
      "userId": "07685097968043616234"
     },
     "user_tz": -330
    },
    "id": "3EkwzomuSMFJ"
   },
   "outputs": [],
   "source": [
    "#loading the stopwords\n",
    "stop_words = set(stopwords.words(\"english\"))"
   ]
  },
  {
   "cell_type": "code",
   "execution_count": 24,
   "metadata": {
    "colab": {
     "base_uri": "https://localhost:8080/"
    },
    "executionInfo": {
     "elapsed": 1188,
     "status": "ok",
     "timestamp": 1621220759625,
     "user": {
      "displayName": "Shriya Mutyal",
      "photoUrl": "https://lh3.googleusercontent.com/a-/AOh14GguzasuoJAo8k6uLhI1NxV7McBXzwShxOYHUE9UkA=s64",
      "userId": "07685097968043616234"
     },
     "user_tz": -330
    },
    "id": "cjgoXkrmSSKS",
    "outputId": "a54a4eaa-e8a1-4463-b104-f058cf0822a9"
   },
   "outputs": [
    {
     "name": "stderr",
     "output_type": "stream",
     "text": [
      "/usr/local/lib/python3.7/dist-packages/ipykernel_launcher.py:2: SettingWithCopyWarning: \n",
      "A value is trying to be set on a copy of a slice from a DataFrame.\n",
      "Try using .loc[row_indexer,col_indexer] = value instead\n",
      "\n",
      "See the caveats in the documentation: https://pandas.pydata.org/pandas-docs/stable/user_guide/indexing.html#returning-a-view-versus-a-copy\n",
      "  \n"
     ]
    }
   ],
   "source": [
    "#removing the stop words from the corpus\n",
    "dataset['text'] = dataset['text'].apply(lambda x:' '.join([word for word in x.split() if word not in (stop_words)]))"
   ]
  },
  {
   "cell_type": "code",
   "execution_count": 25,
   "metadata": {
    "colab": {
     "base_uri": "https://localhost:8080/"
    },
    "executionInfo": {
     "elapsed": 1193,
     "status": "ok",
     "timestamp": 1621220774071,
     "user": {
      "displayName": "Shriya Mutyal",
      "photoUrl": "https://lh3.googleusercontent.com/a-/AOh14GguzasuoJAo8k6uLhI1NxV7McBXzwShxOYHUE9UkA=s64",
      "userId": "07685097968043616234"
     },
     "user_tz": -330
    },
    "id": "4YEnCLtFSZNk",
    "outputId": "5cf9c341-99e1-4ced-9f25-16f3f653e9aa"
   },
   "outputs": [
    {
     "name": "stdout",
     "output_type": "stream",
     "text": [
      "virginamerica seriously would pay 30 flight seats didnt playing really bad thing flying va\n"
     ]
    }
   ],
   "source": [
    "print(dataset['text'].iloc[3])"
   ]
  },
  {
   "cell_type": "code",
   "execution_count": 26,
   "metadata": {
    "executionInfo": {
     "elapsed": 1177,
     "status": "ok",
     "timestamp": 1621221968551,
     "user": {
      "displayName": "Shriya Mutyal",
      "photoUrl": "https://lh3.googleusercontent.com/a-/AOh14GguzasuoJAo8k6uLhI1NxV7McBXzwShxOYHUE9UkA=s64",
      "userId": "07685097968043616234"
     },
     "user_tz": -330
    },
    "id": "H7cLuxQJScvO"
   },
   "outputs": [],
   "source": [
    "#tokenizing our document \n",
    "max_features = 2000\n",
    "tokenizer = Tokenizer(num_words=max_features,split = ' ')\n",
    "tokenizer.fit_on_texts(dataset['text'].values)"
   ]
  },
  {
   "cell_type": "code",
   "execution_count": 27,
   "metadata": {
    "colab": {
     "base_uri": "https://localhost:8080/"
    },
    "executionInfo": {
     "elapsed": 1212,
     "status": "ok",
     "timestamp": 1621221982989,
     "user": {
      "displayName": "Shriya Mutyal",
      "photoUrl": "https://lh3.googleusercontent.com/a-/AOh14GguzasuoJAo8k6uLhI1NxV7McBXzwShxOYHUE9UkA=s64",
      "userId": "07685097968043616234"
     },
     "user_tz": -330
    },
    "id": "63BzaUaCXAWb",
    "outputId": "ff5aaeb2-1836-4bcb-e588-90e2b80242b3"
   },
   "outputs": [
    {
     "name": "stdout",
     "output_type": "stream",
     "text": [
      "virginamerica seriously would pay 30 flight seats didnt playing really bad thing flying va\n"
     ]
    }
   ],
   "source": [
    "print(dataset['text'].iloc[3])"
   ]
  },
  {
   "cell_type": "code",
   "execution_count": 28,
   "metadata": {
    "executionInfo": {
     "elapsed": 1206,
     "status": "ok",
     "timestamp": 1621222003356,
     "user": {
      "displayName": "Shriya Mutyal",
      "photoUrl": "https://lh3.googleusercontent.com/a-/AOh14GguzasuoJAo8k6uLhI1NxV7McBXzwShxOYHUE9UkA=s64",
      "userId": "07685097968043616234"
     },
     "user_tz": -330
    },
    "id": "mq5tGo5vXD31"
   },
   "outputs": [],
   "source": [
    "#converting our tokens or text to sequences\n",
    "seq = tokenizer.texts_to_sequences(dataset['text'].values)"
   ]
  },
  {
   "cell_type": "code",
   "execution_count": 29,
   "metadata": {
    "colab": {
     "base_uri": "https://localhost:8080/"
    },
    "executionInfo": {
     "elapsed": 1232,
     "status": "ok",
     "timestamp": 1621222013095,
     "user": {
      "displayName": "Shriya Mutyal",
      "photoUrl": "https://lh3.googleusercontent.com/a-/AOh14GguzasuoJAo8k6uLhI1NxV7McBXzwShxOYHUE9UkA=s64",
      "userId": "07685097968043616234"
     },
     "user_tz": -330
    },
    "id": "PXCN5BvfXI2Q",
    "outputId": "85f0d9f7-1870-467e-b4db-00030c1c575f"
   },
   "outputs": [
    {
     "data": {
      "text/plain": [
       "14"
      ]
     },
     "execution_count": 29,
     "metadata": {
      "tags": []
     },
     "output_type": "execute_result"
    }
   ],
   "source": [
    "len(seq[3])"
   ]
  },
  {
   "cell_type": "code",
   "execution_count": 30,
   "metadata": {
    "colab": {
     "base_uri": "https://localhost:8080/"
    },
    "executionInfo": {
     "elapsed": 1225,
     "status": "ok",
     "timestamp": 1621222025289,
     "user": {
      "displayName": "Shriya Mutyal",
      "photoUrl": "https://lh3.googleusercontent.com/a-/AOh14GguzasuoJAo8k6uLhI1NxV7McBXzwShxOYHUE9UkA=s64",
      "userId": "07685097968043616234"
     },
     "user_tz": -330
    },
    "id": "qu7OrEmwXLOR",
    "outputId": "830c63a8-361f-4afa-ad46-9810e0012f93"
   },
   "outputs": [
    {
     "name": "stdout",
     "output_type": "stream",
     "text": [
      "[43, 283, 34, 185, 186, 2, 121, 104, 1980, 56, 115, 376, 78, 1807]\n"
     ]
    }
   ],
   "source": [
    "print(seq[3])"
   ]
  },
  {
   "cell_type": "code",
   "execution_count": 31,
   "metadata": {
    "colab": {
     "base_uri": "https://localhost:8080/"
    },
    "executionInfo": {
     "elapsed": 1309,
     "status": "ok",
     "timestamp": 1621222084087,
     "user": {
      "displayName": "Shriya Mutyal",
      "photoUrl": "https://lh3.googleusercontent.com/a-/AOh14GguzasuoJAo8k6uLhI1NxV7McBXzwShxOYHUE9UkA=s64",
      "userId": "07685097968043616234"
     },
     "user_tz": -330
    },
    "id": "B7s6c6NXXOM6",
    "outputId": "6e4e1148-a70a-41dd-dca8-3fd86621b2e4"
   },
   "outputs": [
    {
     "data": {
      "text/plain": [
       "15"
      ]
     },
     "execution_count": 31,
     "metadata": {
      "tags": []
     },
     "output_type": "execute_result"
    }
   ],
   "source": [
    "len(seq[12])"
   ]
  },
  {
   "cell_type": "code",
   "execution_count": 32,
   "metadata": {
    "colab": {
     "base_uri": "https://localhost:8080/"
    },
    "executionInfo": {
     "elapsed": 1223,
     "status": "ok",
     "timestamp": 1621222098160,
     "user": {
      "displayName": "Shriya Mutyal",
      "photoUrl": "https://lh3.googleusercontent.com/a-/AOh14GguzasuoJAo8k6uLhI1NxV7McBXzwShxOYHUE9UkA=s64",
      "userId": "07685097968043616234"
     },
     "user_tz": -330
    },
    "id": "5Dlpy-sEXciU",
    "outputId": "d5b4632c-3a95-4280-f7fd-c39e4c52d1db"
   },
   "outputs": [
    {
     "name": "stdout",
     "output_type": "stream",
     "text": [
      "[43, 769, 88, 1190, 710, 2, 242, 683, 47, 434, 146, 46, 383, 927, 1265]\n"
     ]
    }
   ],
   "source": [
    "print(seq[12])"
   ]
  },
  {
   "cell_type": "code",
   "execution_count": 33,
   "metadata": {
    "executionInfo": {
     "elapsed": 1268,
     "status": "ok",
     "timestamp": 1621222114554,
     "user": {
      "displayName": "Shriya Mutyal",
      "photoUrl": "https://lh3.googleusercontent.com/a-/AOh14GguzasuoJAo8k6uLhI1NxV7McBXzwShxOYHUE9UkA=s64",
      "userId": "07685097968043616234"
     },
     "user_tz": -330
    },
    "id": "Qp9-Pyn4Xf_l"
   },
   "outputs": [],
   "source": [
    "#Doing the padding operation so that all the documents are of same length \n",
    "seq = pad_sequences(seq)"
   ]
  },
  {
   "cell_type": "code",
   "execution_count": 34,
   "metadata": {
    "colab": {
     "base_uri": "https://localhost:8080/"
    },
    "executionInfo": {
     "elapsed": 1313,
     "status": "ok",
     "timestamp": 1621222128116,
     "user": {
      "displayName": "Shriya Mutyal",
      "photoUrl": "https://lh3.googleusercontent.com/a-/AOh14GguzasuoJAo8k6uLhI1NxV7McBXzwShxOYHUE9UkA=s64",
      "userId": "07685097968043616234"
     },
     "user_tz": -330
    },
    "id": "POR1CH4vXj-_",
    "outputId": "f432d4ff-6396-4718-f41b-6a98ecef5251"
   },
   "outputs": [
    {
     "name": "stdout",
     "output_type": "stream",
     "text": [
      "[   0    0    0    0    0    0    0   43  769   88 1190  710    2  242\n",
      "  683   47  434  146   46  383  927 1265]\n"
     ]
    }
   ],
   "source": [
    "print(seq[12])"
   ]
  },
  {
   "cell_type": "code",
   "execution_count": 35,
   "metadata": {
    "colab": {
     "base_uri": "https://localhost:8080/"
    },
    "executionInfo": {
     "elapsed": 1234,
     "status": "ok",
     "timestamp": 1621222143180,
     "user": {
      "displayName": "Shriya Mutyal",
      "photoUrl": "https://lh3.googleusercontent.com/a-/AOh14GguzasuoJAo8k6uLhI1NxV7McBXzwShxOYHUE9UkA=s64",
      "userId": "07685097968043616234"
     },
     "user_tz": -330
    },
    "id": "RKmaCDQUXnSJ",
    "outputId": "93c90a08-e2b2-4db6-a9bd-9c009416e2d7"
   },
   "outputs": [
    {
     "name": "stdout",
     "output_type": "stream",
     "text": [
      "[   0    0    0    0    0    0    0    0    0    0    0    0   43  296\n",
      " 1073 1074 1652  321  315  165 1137  101]\n"
     ]
    }
   ],
   "source": [
    "print(seq[20])"
   ]
  },
  {
   "cell_type": "code",
   "execution_count": 36,
   "metadata": {
    "colab": {
     "base_uri": "https://localhost:8080/"
    },
    "executionInfo": {
     "elapsed": 1428,
     "status": "ok",
     "timestamp": 1621222155678,
     "user": {
      "displayName": "Shriya Mutyal",
      "photoUrl": "https://lh3.googleusercontent.com/a-/AOh14GguzasuoJAo8k6uLhI1NxV7McBXzwShxOYHUE9UkA=s64",
      "userId": "07685097968043616234"
     },
     "user_tz": -330
    },
    "id": "dhw-wucIXq-f",
    "outputId": "c7241e39-ae05-45d3-9ce9-6fd7414a0388"
   },
   "outputs": [
    {
     "data": {
      "text/plain": [
       "(11541, 22)"
      ]
     },
     "execution_count": 36,
     "metadata": {
      "tags": []
     },
     "output_type": "execute_result"
    }
   ],
   "source": [
    "seq.shape"
   ]
  },
  {
   "cell_type": "code",
   "execution_count": 37,
   "metadata": {
    "executionInfo": {
     "elapsed": 1243,
     "status": "ok",
     "timestamp": 1621222171712,
     "user": {
      "displayName": "Shriya Mutyal",
      "photoUrl": "https://lh3.googleusercontent.com/a-/AOh14GguzasuoJAo8k6uLhI1NxV7McBXzwShxOYHUE9UkA=s64",
      "userId": "07685097968043616234"
     },
     "user_tz": -330
    },
    "id": "dzhvDqsrXt_J"
   },
   "outputs": [],
   "source": [
    "#converting the label to numeric form\n",
    "y = pd.get_dummies(dataset['airline_sentiment'],drop_first=True).values"
   ]
  },
  {
   "cell_type": "code",
   "execution_count": 38,
   "metadata": {
    "colab": {
     "base_uri": "https://localhost:8080/"
    },
    "executionInfo": {
     "elapsed": 1237,
     "status": "ok",
     "timestamp": 1621222183063,
     "user": {
      "displayName": "Shriya Mutyal",
      "photoUrl": "https://lh3.googleusercontent.com/a-/AOh14GguzasuoJAo8k6uLhI1NxV7McBXzwShxOYHUE9UkA=s64",
      "userId": "07685097968043616234"
     },
     "user_tz": -330
    },
    "id": "A5Qf7vZnXx73",
    "outputId": "082b980d-53a4-4e16-d628-07f91dc2e298"
   },
   "outputs": [
    {
     "data": {
      "text/plain": [
       "array([0], dtype=uint8)"
      ]
     },
     "execution_count": 38,
     "metadata": {
      "tags": []
     },
     "output_type": "execute_result"
    }
   ],
   "source": [
    "y[3]"
   ]
  },
  {
   "cell_type": "code",
   "execution_count": 39,
   "metadata": {
    "executionInfo": {
     "elapsed": 1454,
     "status": "ok",
     "timestamp": 1621222198616,
     "user": {
      "displayName": "Shriya Mutyal",
      "photoUrl": "https://lh3.googleusercontent.com/a-/AOh14GguzasuoJAo8k6uLhI1NxV7McBXzwShxOYHUE9UkA=s64",
      "userId": "07685097968043616234"
     },
     "user_tz": -330
    },
    "id": "2GhXvMm8X0tj"
   },
   "outputs": [],
   "source": [
    "#splitting the data into train and test\n",
    "x_train,x_test,y_train,y_test = train_test_split(seq, y, test_size = 0.2,random_state = 0)"
   ]
  },
  {
   "cell_type": "code",
   "execution_count": 40,
   "metadata": {
    "colab": {
     "base_uri": "https://localhost:8080/"
    },
    "executionInfo": {
     "elapsed": 1230,
     "status": "ok",
     "timestamp": 1621222211753,
     "user": {
      "displayName": "Shriya Mutyal",
      "photoUrl": "https://lh3.googleusercontent.com/a-/AOh14GguzasuoJAo8k6uLhI1NxV7McBXzwShxOYHUE9UkA=s64",
      "userId": "07685097968043616234"
     },
     "user_tz": -330
    },
    "id": "7Zg3MhQTX4dN",
    "outputId": "492bf5f0-3d70-4105-dfc9-69a3ecd1c631"
   },
   "outputs": [
    {
     "data": {
      "text/plain": [
       "(9232, 22)"
      ]
     },
     "execution_count": 40,
     "metadata": {
      "tags": []
     },
     "output_type": "execute_result"
    }
   ],
   "source": [
    "x_train.shape"
   ]
  },
  {
   "cell_type": "code",
   "execution_count": 41,
   "metadata": {
    "colab": {
     "base_uri": "https://localhost:8080/"
    },
    "executionInfo": {
     "elapsed": 1194,
     "status": "ok",
     "timestamp": 1621222228715,
     "user": {
      "displayName": "Shriya Mutyal",
      "photoUrl": "https://lh3.googleusercontent.com/a-/AOh14GguzasuoJAo8k6uLhI1NxV7McBXzwShxOYHUE9UkA=s64",
      "userId": "07685097968043616234"
     },
     "user_tz": -330
    },
    "id": "bqUSbximX7uU",
    "outputId": "76c8f743-bf31-469a-c07f-665c74c02f4a"
   },
   "outputs": [
    {
     "data": {
      "text/plain": [
       "array([   0,    0,    0,    0,    0,    0,    0,    0,    0,    0,    0,\n",
       "          1,   21,  698, 1485,   88,  239,    2, 1827,   46,   10, 1938],\n",
       "      dtype=int32)"
      ]
     },
     "execution_count": 41,
     "metadata": {
      "tags": []
     },
     "output_type": "execute_result"
    }
   ],
   "source": [
    "x_train[3]\n"
   ]
  },
  {
   "cell_type": "code",
   "execution_count": 42,
   "metadata": {
    "colab": {
     "base_uri": "https://localhost:8080/"
    },
    "executionInfo": {
     "elapsed": 1353,
     "status": "ok",
     "timestamp": 1621222240016,
     "user": {
      "displayName": "Shriya Mutyal",
      "photoUrl": "https://lh3.googleusercontent.com/a-/AOh14GguzasuoJAo8k6uLhI1NxV7McBXzwShxOYHUE9UkA=s64",
      "userId": "07685097968043616234"
     },
     "user_tz": -330
    },
    "id": "n0BXCA_2X_30",
    "outputId": "da4b03f3-0574-42ec-fce2-6e3bc2ed097a"
   },
   "outputs": [
    {
     "data": {
      "text/plain": [
       "array([1], dtype=uint8)"
      ]
     },
     "execution_count": 42,
     "metadata": {
      "tags": []
     },
     "output_type": "execute_result"
    }
   ],
   "source": [
    "y_train[3]"
   ]
  },
  {
   "cell_type": "code",
   "execution_count": 43,
   "metadata": {
    "executionInfo": {
     "elapsed": 1204,
     "status": "ok",
     "timestamp": 1621222255526,
     "user": {
      "displayName": "Shriya Mutyal",
      "photoUrl": "https://lh3.googleusercontent.com/a-/AOh14GguzasuoJAo8k6uLhI1NxV7McBXzwShxOYHUE9UkA=s64",
      "userId": "07685097968043616234"
     },
     "user_tz": -330
    },
    "id": "uAzMjdkwYCl6"
   },
   "outputs": [],
   "source": [
    "#giving the embedding dimension, the size of the dimension which we want to convert our word into\n",
    "embed_dimension = 128"
   ]
  },
  {
   "cell_type": "code",
   "execution_count": 44,
   "metadata": {
    "executionInfo": {
     "elapsed": 1352,
     "status": "ok",
     "timestamp": 1621222272371,
     "user": {
      "displayName": "Shriya Mutyal",
      "photoUrl": "https://lh3.googleusercontent.com/a-/AOh14GguzasuoJAo8k6uLhI1NxV7McBXzwShxOYHUE9UkA=s64",
      "userId": "07685097968043616234"
     },
     "user_tz": -330
    },
    "id": "6zY7OzH3YGao"
   },
   "outputs": [],
   "source": [
    "#Building the model \n",
    "model = Sequential()\n",
    "model.add(Embedding(max_features,embed_dimension,input_length=seq.shape[1])) #Embedding layer - input_Dimension, embed_Dim we need, and the input length of the document\n",
    "model.add(LSTM(128, dropout=0.2, recurrent_dropout= 0.2)) #buildinf a lstm layer \n",
    "model.add(Dense(1,activation = 'sigmoid')) #output layer"
   ]
  },
  {
   "cell_type": "code",
   "execution_count": 45,
   "metadata": {
    "colab": {
     "base_uri": "https://localhost:8080/"
    },
    "executionInfo": {
     "elapsed": 1499,
     "status": "ok",
     "timestamp": 1621222288903,
     "user": {
      "displayName": "Shriya Mutyal",
      "photoUrl": "https://lh3.googleusercontent.com/a-/AOh14GguzasuoJAo8k6uLhI1NxV7McBXzwShxOYHUE9UkA=s64",
      "userId": "07685097968043616234"
     },
     "user_tz": -330
    },
    "id": "NNSXN7MlYKfV",
    "outputId": "2a2f3e40-75c0-4da5-8695-a66446ab17bf"
   },
   "outputs": [
    {
     "name": "stdout",
     "output_type": "stream",
     "text": [
      "Model: \"sequential\"\n",
      "_________________________________________________________________\n",
      "Layer (type)                 Output Shape              Param #   \n",
      "=================================================================\n",
      "embedding (Embedding)        (None, 22, 128)           256000    \n",
      "_________________________________________________________________\n",
      "lstm (LSTM)                  (None, 128)               131584    \n",
      "_________________________________________________________________\n",
      "dense (Dense)                (None, 1)                 129       \n",
      "=================================================================\n",
      "Total params: 387,713\n",
      "Trainable params: 387,713\n",
      "Non-trainable params: 0\n",
      "_________________________________________________________________\n"
     ]
    }
   ],
   "source": [
    "model.summary()"
   ]
  },
  {
   "cell_type": "code",
   "execution_count": 46,
   "metadata": {
    "executionInfo": {
     "elapsed": 1257,
     "status": "ok",
     "timestamp": 1621222765106,
     "user": {
      "displayName": "Shriya Mutyal",
      "photoUrl": "https://lh3.googleusercontent.com/a-/AOh14GguzasuoJAo8k6uLhI1NxV7McBXzwShxOYHUE9UkA=s64",
      "userId": "07685097968043616234"
     },
     "user_tz": -330
    },
    "id": "HxYt0mR-YOfo"
   },
   "outputs": [],
   "source": [
    "#compiling the model\n",
    "model.compile(loss = 'binary_crossentropy',optimizer='adam',metrics=['accuracy'])"
   ]
  },
  {
   "cell_type": "code",
   "execution_count": 47,
   "metadata": {
    "colab": {
     "base_uri": "https://localhost:8080/"
    },
    "executionInfo": {
     "elapsed": 109826,
     "status": "ok",
     "timestamp": 1621222891497,
     "user": {
      "displayName": "Shriya Mutyal",
      "photoUrl": "https://lh3.googleusercontent.com/a-/AOh14GguzasuoJAo8k6uLhI1NxV7McBXzwShxOYHUE9UkA=s64",
      "userId": "07685097968043616234"
     },
     "user_tz": -330
    },
    "id": "RmTxQHdAaCzz",
    "outputId": "273093ca-983b-46c9-b314-707076256ede"
   },
   "outputs": [
    {
     "name": "stdout",
     "output_type": "stream",
     "text": [
      "Epoch 1/10\n",
      "93/93 [==============================] - 14s 121ms/step - loss: 0.5038 - accuracy: 0.7993 - val_loss: 0.2381 - val_accuracy: 0.9121\n",
      "Epoch 2/10\n",
      "93/93 [==============================] - 11s 113ms/step - loss: 0.1937 - accuracy: 0.9299 - val_loss: 0.1981 - val_accuracy: 0.9277\n",
      "Epoch 3/10\n",
      "93/93 [==============================] - 11s 113ms/step - loss: 0.1480 - accuracy: 0.9445 - val_loss: 0.2036 - val_accuracy: 0.9272\n",
      "Epoch 4/10\n",
      "93/93 [==============================] - 10s 113ms/step - loss: 0.1226 - accuracy: 0.9548 - val_loss: 0.2185 - val_accuracy: 0.9246\n",
      "Epoch 5/10\n",
      "93/93 [==============================] - 11s 113ms/step - loss: 0.1057 - accuracy: 0.9619 - val_loss: 0.2296 - val_accuracy: 0.9203\n",
      "Epoch 6/10\n",
      "93/93 [==============================] - 10s 112ms/step - loss: 0.0879 - accuracy: 0.9668 - val_loss: 0.2523 - val_accuracy: 0.9190\n",
      "Epoch 7/10\n",
      "93/93 [==============================] - 10s 112ms/step - loss: 0.0796 - accuracy: 0.9706 - val_loss: 0.2616 - val_accuracy: 0.9147\n",
      "Epoch 8/10\n",
      "93/93 [==============================] - 11s 113ms/step - loss: 0.0689 - accuracy: 0.9738 - val_loss: 0.2888 - val_accuracy: 0.9190\n",
      "Epoch 9/10\n",
      "93/93 [==============================] - 11s 113ms/step - loss: 0.0557 - accuracy: 0.9764 - val_loss: 0.3645 - val_accuracy: 0.9134\n",
      "Epoch 10/10\n",
      "93/93 [==============================] - 10s 113ms/step - loss: 0.0545 - accuracy: 0.9779 - val_loss: 0.3917 - val_accuracy: 0.9151\n"
     ]
    },
    {
     "data": {
      "text/plain": [
       "<tensorflow.python.keras.callbacks.History at 0x7eff33715910>"
      ]
     },
     "execution_count": 47,
     "metadata": {
      "tags": []
     },
     "output_type": "execute_result"
    }
   ],
   "source": [
    "#training our model and checking the validation accuracy\n",
    "model.fit(x_train,y_train,batch_size=100,validation_data=(x_test,y_test),epochs=10)"
   ]
  },
  {
   "cell_type": "code",
   "execution_count": 48,
   "metadata": {
    "executionInfo": {
     "elapsed": 79937,
     "status": "ok",
     "timestamp": 1621222891503,
     "user": {
      "displayName": "Shriya Mutyal",
      "photoUrl": "https://lh3.googleusercontent.com/a-/AOh14GguzasuoJAo8k6uLhI1NxV7McBXzwShxOYHUE9UkA=s64",
      "userId": "07685097968043616234"
     },
     "user_tz": -330
    },
    "id": "wCc2aB5jaHKd"
   },
   "outputs": [],
   "source": [
    "#predicting a random tweet \n",
    "tweets = [\"virginamerica has the most incredible customer service i've ever experienced! so refreshing!\"]"
   ]
  },
  {
   "cell_type": "code",
   "execution_count": 49,
   "metadata": {
    "colab": {
     "base_uri": "https://localhost:8080/"
    },
    "executionInfo": {
     "elapsed": 2641,
     "status": "ok",
     "timestamp": 1621222894169,
     "user": {
      "displayName": "Shriya Mutyal",
      "photoUrl": "https://lh3.googleusercontent.com/a-/AOh14GguzasuoJAo8k6uLhI1NxV7McBXzwShxOYHUE9UkA=s64",
      "userId": "07685097968043616234"
     },
     "user_tz": -330
    },
    "id": "g-QlxHDfaOdm",
    "outputId": "69ec250a-7204-469e-87a7-04357cf3e8c3"
   },
   "outputs": [
    {
     "name": "stdout",
     "output_type": "stream",
     "text": [
      "[nltk_data] Downloading package punkt to /root/nltk_data...\n",
      "[nltk_data]   Unzipping tokenizers/punkt.zip.\n"
     ]
    },
    {
     "data": {
      "text/plain": [
       "True"
      ]
     },
     "execution_count": 49,
     "metadata": {
      "tags": []
     },
     "output_type": "execute_result"
    }
   ],
   "source": [
    "from nltk import word_tokenize\n",
    "nltk.download('punkt')"
   ]
  },
  {
   "cell_type": "code",
   "execution_count": 50,
   "metadata": {
    "executionInfo": {
     "elapsed": 2629,
     "status": "ok",
     "timestamp": 1621222894171,
     "user": {
      "displayName": "Shriya Mutyal",
      "photoUrl": "https://lh3.googleusercontent.com/a-/AOh14GguzasuoJAo8k6uLhI1NxV7McBXzwShxOYHUE9UkA=s64",
      "userId": "07685097968043616234"
     },
     "user_tz": -330
    },
    "id": "YR6zFlSraUIw"
   },
   "outputs": [],
   "source": [
    "#tokenized_twt = word_tokenize(tweet)"
   ]
  },
  {
   "cell_type": "code",
   "execution_count": 51,
   "metadata": {
    "executionInfo": {
     "elapsed": 2627,
     "status": "ok",
     "timestamp": 1621222894176,
     "user": {
      "displayName": "Shriya Mutyal",
      "photoUrl": "https://lh3.googleusercontent.com/a-/AOh14GguzasuoJAo8k6uLhI1NxV7McBXzwShxOYHUE9UkA=s64",
      "userId": "07685097968043616234"
     },
     "user_tz": -330
    },
    "id": "IXIMFkacabTT"
   },
   "outputs": [],
   "source": [
    "#tokenizing the tweet\n",
    "tokenizer.fit_on_texts(tweets)"
   ]
  },
  {
   "cell_type": "code",
   "execution_count": 52,
   "metadata": {
    "executionInfo": {
     "elapsed": 998,
     "status": "ok",
     "timestamp": 1621222899657,
     "user": {
      "displayName": "Shriya Mutyal",
      "photoUrl": "https://lh3.googleusercontent.com/a-/AOh14GguzasuoJAo8k6uLhI1NxV7McBXzwShxOYHUE9UkA=s64",
      "userId": "07685097968043616234"
     },
     "user_tz": -330
    },
    "id": "5DN8c5TNafGg"
   },
   "outputs": [],
   "source": [
    "#removing stop words from the tweet\n",
    "filtered_twts  =[]\n",
    "for word in tweets:\n",
    "  if word not in stop_words:\n",
    "    filtered_twts.append(word)"
   ]
  },
  {
   "cell_type": "code",
   "execution_count": 53,
   "metadata": {
    "colab": {
     "base_uri": "https://localhost:8080/"
    },
    "executionInfo": {
     "elapsed": 1352,
     "status": "ok",
     "timestamp": 1621222911130,
     "user": {
      "displayName": "Shriya Mutyal",
      "photoUrl": "https://lh3.googleusercontent.com/a-/AOh14GguzasuoJAo8k6uLhI1NxV7McBXzwShxOYHUE9UkA=s64",
      "userId": "07685097968043616234"
     },
     "user_tz": -330
    },
    "id": "GkwWNyHKajuO",
    "outputId": "c03c04d7-2062-4892-d9fc-9d35c1b1ef60"
   },
   "outputs": [
    {
     "data": {
      "text/plain": [
       "[\"virginamerica has the most incredible customer service i've ever experienced! so refreshing!\"]"
      ]
     },
     "execution_count": 53,
     "metadata": {
      "tags": []
     },
     "output_type": "execute_result"
    }
   ],
   "source": [
    "filtered_twts"
   ]
  },
  {
   "cell_type": "code",
   "execution_count": 54,
   "metadata": {
    "executionInfo": {
     "elapsed": 1248,
     "status": "ok",
     "timestamp": 1621222926282,
     "user": {
      "displayName": "Shriya Mutyal",
      "photoUrl": "https://lh3.googleusercontent.com/a-/AOh14GguzasuoJAo8k6uLhI1NxV7McBXzwShxOYHUE9UkA=s64",
      "userId": "07685097968043616234"
     },
     "user_tz": -330
    },
    "id": "H7m2alVNamb_"
   },
   "outputs": [],
   "source": [
    "#converting text to sequence\n",
    "seq1 = tokenizer.texts_to_sequences(filtered_twts)"
   ]
  },
  {
   "cell_type": "code",
   "execution_count": 55,
   "metadata": {
    "colab": {
     "base_uri": "https://localhost:8080/"
    },
    "executionInfo": {
     "elapsed": 1261,
     "status": "ok",
     "timestamp": 1621222939269,
     "user": {
      "displayName": "Shriya Mutyal",
      "photoUrl": "https://lh3.googleusercontent.com/a-/AOh14GguzasuoJAo8k6uLhI1NxV7McBXzwShxOYHUE9UkA=s64",
      "userId": "07685097968043616234"
     },
     "user_tz": -330
    },
    "id": "SRmOLD_EaqKf",
    "outputId": "c2a42ddb-f0ee-42c9-f3a0-d3b6595bba9a"
   },
   "outputs": [
    {
     "data": {
      "text/plain": [
       "[[43, 1286, 11, 10, 77, 898]]"
      ]
     },
     "execution_count": 55,
     "metadata": {
      "tags": []
     },
     "output_type": "execute_result"
    }
   ],
   "source": [
    "seq1"
   ]
  },
  {
   "cell_type": "code",
   "execution_count": 57,
   "metadata": {
    "colab": {
     "base_uri": "https://localhost:8080/"
    },
    "executionInfo": {
     "elapsed": 1021,
     "status": "ok",
     "timestamp": 1621222955075,
     "user": {
      "displayName": "Shriya Mutyal",
      "photoUrl": "https://lh3.googleusercontent.com/a-/AOh14GguzasuoJAo8k6uLhI1NxV7McBXzwShxOYHUE9UkA=s64",
      "userId": "07685097968043616234"
     },
     "user_tz": -330
    },
    "id": "ZUN-RQaHatVL",
    "outputId": "0c12b14f-3008-4948-9218-814465ba788b"
   },
   "outputs": [
    {
     "name": "stdout",
     "output_type": "stream",
     "text": [
      "[[43, 1286, 11, 10, 77, 898]]\n"
     ]
    }
   ],
   "source": [
    "print(seq1)"
   ]
  },
  {
   "cell_type": "code",
   "execution_count": 58,
   "metadata": {
    "executionInfo": {
     "elapsed": 1242,
     "status": "ok",
     "timestamp": 1621222970671,
     "user": {
      "displayName": "Shriya Mutyal",
      "photoUrl": "https://lh3.googleusercontent.com/a-/AOh14GguzasuoJAo8k6uLhI1NxV7McBXzwShxOYHUE9UkA=s64",
      "userId": "07685097968043616234"
     },
     "user_tz": -330
    },
    "id": "ozSb0XRqawCd"
   },
   "outputs": [],
   "source": [
    "#padding our document according to shape of our data\n",
    "seq1 = pad_sequences(seq1, maxlen=22)"
   ]
  },
  {
   "cell_type": "code",
   "execution_count": 59,
   "metadata": {
    "colab": {
     "base_uri": "https://localhost:8080/"
    },
    "executionInfo": {
     "elapsed": 1206,
     "status": "ok",
     "timestamp": 1621222983617,
     "user": {
      "displayName": "Shriya Mutyal",
      "photoUrl": "https://lh3.googleusercontent.com/a-/AOh14GguzasuoJAo8k6uLhI1NxV7McBXzwShxOYHUE9UkA=s64",
      "userId": "07685097968043616234"
     },
     "user_tz": -330
    },
    "id": "niAmk0gAa1AJ",
    "outputId": "705def48-b341-41dc-f2d4-1d7ff19b21dc"
   },
   "outputs": [
    {
     "data": {
      "text/plain": [
       "array([[   0,    0,    0,    0,    0,    0,    0,    0,    0,    0,    0,\n",
       "           0,    0,    0,    0,    0,   43, 1286,   11,   10,   77,  898]],\n",
       "      dtype=int32)"
      ]
     },
     "execution_count": 59,
     "metadata": {
      "tags": []
     },
     "output_type": "execute_result"
    }
   ],
   "source": [
    "seq1"
   ]
  },
  {
   "cell_type": "code",
   "execution_count": 60,
   "metadata": {
    "colab": {
     "base_uri": "https://localhost:8080/"
    },
    "executionInfo": {
     "elapsed": 1173,
     "status": "ok",
     "timestamp": 1621223006480,
     "user": {
      "displayName": "Shriya Mutyal",
      "photoUrl": "https://lh3.googleusercontent.com/a-/AOh14GguzasuoJAo8k6uLhI1NxV7McBXzwShxOYHUE9UkA=s64",
      "userId": "07685097968043616234"
     },
     "user_tz": -330
    },
    "id": "S5kVPK5Sa4K_",
    "outputId": "bb81bf04-d7c2-4e56-ea64-8cd0bad5f725"
   },
   "outputs": [
    {
     "name": "stderr",
     "output_type": "stream",
     "text": [
      "/usr/local/lib/python3.7/dist-packages/tensorflow/python/keras/engine/sequential.py:450: UserWarning: `model.predict_classes()` is deprecated and will be removed after 2021-01-01. Please use instead:* `np.argmax(model.predict(x), axis=-1)`,   if your model does multi-class classification   (e.g. if it uses a `softmax` last-layer activation).* `(model.predict(x) > 0.5).astype(\"int32\")`,   if your model does binary classification   (e.g. if it uses a `sigmoid` last-layer activation).\n",
      "  warnings.warn('`model.predict_classes()` is deprecated and '\n"
     ]
    }
   ],
   "source": [
    "#predicting the sentiment of the tweet\n",
    "y_pred = model.predict_classes(seq1)"
   ]
  },
  {
   "cell_type": "code",
   "execution_count": 61,
   "metadata": {
    "colab": {
     "base_uri": "https://localhost:8080/"
    },
    "executionInfo": {
     "elapsed": 1272,
     "status": "ok",
     "timestamp": 1621223022789,
     "user": {
      "displayName": "Shriya Mutyal",
      "photoUrl": "https://lh3.googleusercontent.com/a-/AOh14GguzasuoJAo8k6uLhI1NxV7McBXzwShxOYHUE9UkA=s64",
      "userId": "07685097968043616234"
     },
     "user_tz": -330
    },
    "id": "X3_BQ4fra9wi",
    "outputId": "3ad56c11-eb3d-451b-e21b-6a1bf1a8b7de"
   },
   "outputs": [
    {
     "data": {
      "text/plain": [
       "array([[0]], dtype=int32)"
      ]
     },
     "execution_count": 61,
     "metadata": {
      "tags": []
     },
     "output_type": "execute_result"
    }
   ],
   "source": [
    "y_pred"
   ]
  },
  {
   "cell_type": "code",
   "execution_count": null,
   "metadata": {
    "id": "aVOb9oiLbBuE"
   },
   "outputs": [],
   "source": []
  }
 ],
 "metadata": {
  "colab": {
   "authorship_tag": "ABX9TyNKNk3G1M8kGumM7H/8mq6N",
   "mount_file_id": "1RfbrS5rsVrnmtfWZ1CRML1liQpmhsAcQ",
   "name": "Untitled8.ipynb",
   "provenance": []
  },
  "kernelspec": {
   "display_name": "Python 3",
   "language": "python",
   "name": "python3"
  },
  "language_info": {
   "codemirror_mode": {
    "name": "ipython",
    "version": 3
   },
   "file_extension": ".py",
   "mimetype": "text/x-python",
   "name": "python",
   "nbconvert_exporter": "python",
   "pygments_lexer": "ipython3",
   "version": "3.8.3"
  }
 },
 "nbformat": 4,
 "nbformat_minor": 1
}
